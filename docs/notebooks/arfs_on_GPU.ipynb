{
 "cells": [
  {
   "cell_type": "markdown",
   "metadata": {},
   "source": [
    "# ARFS - Using GPU\n",
    "\n",
    "You can leverage the GPU implementation of lightGBM (or other GBM flavours) but this often requires to compile or install some libraries or kit (such as CUDA)"
   ]
  },
  {
   "cell_type": "code",
   "execution_count": 1,
   "metadata": {},
   "outputs": [],
   "source": [
    "# from IPython.core.display import display, HTML\n",
    "# display(HTML(\"<style>.container { width:95% !important; }</style>\"))\n",
    "import time\n",
    "import numpy as np\n",
    "import pandas as pd\n",
    "import matplotlib as mpl\n",
    "import matplotlib.pyplot as plt\n",
    "from lightgbm import LGBMRegressor\n",
    "\n",
    "import arfs\n",
    "from arfs.feature_selection import GrootCV, Leshy\n",
    "from arfs.utils import load_data\n",
    "from arfs.benchmark import highlight_tick\n",
    "\n",
    "rng = np.random.RandomState(seed=42)\n",
    "\n",
    "# import warnings\n",
    "# warnings.filterwarnings('ignore')"
   ]
  },
  {
   "cell_type": "markdown",
   "metadata": {},
   "source": [
    "## GrootCV on GPU\n",
    "\n",
    "If the data is small, using a GPU mught not be the most efficient."
   ]
  },
  {
   "cell_type": "code",
   "execution_count": null,
   "metadata": {},
   "outputs": [],
   "source": [
    "from sklearn.datasets import make_regression\n",
    "from sklearn.model_selection import train_test_split\n",
    "\n",
    "# Generate synthetic data with Poisson-distributed target variable\n",
    "bias = 1\n",
    "\n",
    "n_samples = 100_00  # 1_000_000\n",
    "n_features = 100\n",
    "n_informative = 20\n",
    "\n",
    "X, y, true_coef = make_regression(\n",
    "    n_samples=n_samples,\n",
    "    n_features=n_features,\n",
    "    n_informative=n_informative,\n",
    "    noise=1,\n",
    "    random_state=8,\n",
    "    bias=bias,\n",
    "    coef=True,\n",
    ")\n",
    "y = (y - y.mean()) / y.std()\n",
    "y = np.exp(y)  # Transform to positive values for Poisson distribution\n",
    "y = np.random.poisson(y)  # Add Poisson noise to the target variable\n",
    "# dummy sample weight (e.g. exposure), smallest being 30 days\n",
    "w = np.random.uniform(30 / 365, 1, size=len(y))\n",
    "# make the count a Poisson rate (frequency)\n",
    "y = y / w\n",
    "\n",
    "X = pd.DataFrame(X)\n",
    "X.columns = [f\"pred_{i}\" for i in range(X.shape[1])]\n",
    "\n",
    "# Split the data into training and testing sets\n",
    "X_train, X_test, y_train, y_test, w_train, w_test = train_test_split(\n",
    "    X, y, w, test_size=0.5, random_state=42\n",
    ")\n",
    "\n",
    "true_coef = pd.Series(true_coef)\n",
    "true_coef.index = X.columns\n",
    "true_coef = pd.Series({**{\"intercept\": bias}, **true_coef})\n",
    "true_coef\n",
    "\n",
    "genuine_predictors = true_coef[true_coef > 0.0]\n",
    "\n",
    "print(f\"The true coefficient of the linear data generating process are:\\n {true_coef}\")"
   ]
  },
  {
   "cell_type": "markdown",
   "metadata": {},
   "source": [
    "GPU"
   ]
  },
  {
   "cell_type": "code",
   "execution_count": null,
   "metadata": {},
   "outputs": [],
   "source": [
    "%%time\n",
    "feat_selector = GrootCV(\n",
    "    objective=\"rmse\",\n",
    "    cutoff=1,\n",
    "    n_folds=3,\n",
    "    n_iter=3,\n",
    "    silent=True,\n",
    "    fastshap=True,\n",
    "    n_jobs=0,\n",
    "    lgbm_params={\"device\": \"gpu\", \"gpu_device_id\": 1},\n",
    ")\n",
    "feat_selector.fit(X_train, y_train, sample_weight=None)\n",
    "print(f\"The selected features: {feat_selector.get_feature_names_out()}\")\n",
    "print(f\"The agnostic ranking: {feat_selector.ranking_}\")\n",
    "print(f\"The naive ranking: {feat_selector.ranking_absolutes_}\")\n",
    "fig = feat_selector.plot_importance(n_feat_per_inch=5)\n",
    "\n",
    "# highlight synthetic random variable\n",
    "for name in true_coef.index:\n",
    "    if name in genuine_predictors.index:\n",
    "        fig = highlight_tick(figure=fig, str_match=name, color=\"green\")\n",
    "    else:\n",
    "        fig = highlight_tick(figure=fig, str_match=name)\n",
    "\n",
    "plt.show()"
   ]
  },
  {
   "cell_type": "markdown",
   "metadata": {},
   "source": [
    "CPU"
   ]
  },
  {
   "cell_type": "code",
   "execution_count": null,
   "metadata": {},
   "outputs": [],
   "source": [
    "%%time\n",
    "feat_selector = GrootCV(\n",
    "    objective=\"rmse\",\n",
    "    cutoff=1,\n",
    "    n_folds=3,\n",
    "    n_iter=3,\n",
    "    silent=True,\n",
    "    fastshap=True,\n",
    "    n_jobs=0,\n",
    "    lgbm_params={\"device\": \"cpu\"},\n",
    ")\n",
    "feat_selector.fit(X_train, y_train, sample_weight=None)\n",
    "print(f\"The selected features: {feat_selector.get_feature_names_out()}\")\n",
    "print(f\"The agnostic ranking: {feat_selector.ranking_}\")\n",
    "print(f\"The naive ranking: {feat_selector.ranking_absolutes_}\")\n",
    "fig = feat_selector.plot_importance(n_feat_per_inch=5)\n",
    "\n",
    "# highlight synthetic random variable\n",
    "for name in true_coef.index:\n",
    "    if name in genuine_predictors.index:\n",
    "        fig = highlight_tick(figure=fig, str_match=name, color=\"green\")\n",
    "    else:\n",
    "        fig = highlight_tick(figure=fig, str_match=name)\n",
    "\n",
    "plt.show()"
   ]
  },
  {
   "cell_type": "markdown",
   "metadata": {},
   "source": [
    "On a smaller data set, for illustrative purposes."
   ]
  },
  {
   "cell_type": "code",
   "execution_count": 5,
   "metadata": {},
   "outputs": [],
   "source": [
    "boston = load_data(name=\"Boston\")\n",
    "X, y = boston.data, boston.target"
   ]
  },
  {
   "cell_type": "code",
   "execution_count": null,
   "metadata": {},
   "outputs": [],
   "source": [
    "%%time\n",
    "feat_selector = GrootCV(\n",
    "    objective=\"rmse\",\n",
    "    cutoff=1,\n",
    "    n_folds=5,\n",
    "    n_iter=5,\n",
    "    silent=True,\n",
    "    fastshap=True,\n",
    "    n_jobs=0,\n",
    "    lgbm_params={\"device\": \"cpu\"},\n",
    ")\n",
    "feat_selector.fit(X, y, sample_weight=None)\n",
    "print(f\"The selected features: {feat_selector.get_feature_names_out()}\")\n",
    "print(f\"The agnostic ranking: {feat_selector.ranking_}\")\n",
    "print(f\"The naive ranking: {feat_selector.ranking_absolutes_}\")\n",
    "fig = feat_selector.plot_importance(n_feat_per_inch=5)\n",
    "\n",
    "# highlight synthetic random variable\n",
    "fig = highlight_tick(figure=fig, str_match=\"random\")\n",
    "fig = highlight_tick(figure=fig, str_match=\"genuine\", color=\"green\")\n",
    "plt.show()"
   ]
  },
  {
   "cell_type": "code",
   "execution_count": null,
   "metadata": {},
   "outputs": [],
   "source": [
    "%%time\n",
    "feat_selector = GrootCV(\n",
    "    objective=\"rmse\",\n",
    "    cutoff=1,\n",
    "    n_folds=5,\n",
    "    n_iter=5,\n",
    "    silent=True,\n",
    "    fastshap=True,\n",
    "    n_jobs=0,\n",
    "    lgbm_params={\"device\": \"gpu\"},\n",
    ")\n",
    "feat_selector.fit(X, y, sample_weight=None)\n",
    "print(f\"The selected features: {feat_selector.get_feature_names_out()}\")\n",
    "print(f\"The agnostic ranking: {feat_selector.ranking_}\")\n",
    "print(f\"The naive ranking: {feat_selector.ranking_absolutes_}\")\n",
    "fig = feat_selector.plot_importance(n_feat_per_inch=5)\n",
    "\n",
    "# highlight synthetic random variable\n",
    "fig = highlight_tick(figure=fig, str_match=\"random\")\n",
    "fig = highlight_tick(figure=fig, str_match=\"genuine\", color=\"green\")\n",
    "plt.show()"
   ]
  },
  {
   "cell_type": "code",
   "execution_count": null,
   "metadata": {},
   "outputs": [],
   "source": [
    "%%time\n",
    "feat_selector = GrootCV(\n",
    "    objective=\"rmse\",\n",
    "    cutoff=1,\n",
    "    n_folds=5,\n",
    "    n_iter=5,\n",
    "    silent=True,\n",
    "    fastshap=True,\n",
    "    n_jobs=0,\n",
    "    lgbm_params={\"device\": \"cuda\"},\n",
    ")\n",
    "feat_selector.fit(X, y, sample_weight=None)\n",
    "print(f\"The selected features: {feat_selector.get_feature_names_out()}\")\n",
    "print(f\"The agnostic ranking: {feat_selector.ranking_}\")\n",
    "print(f\"The naive ranking: {feat_selector.ranking_absolutes_}\")\n",
    "fig = feat_selector.plot_importance(n_feat_per_inch=5)\n",
    "\n",
    "# highlight synthetic random variable\n",
    "fig = highlight_tick(figure=fig, str_match=\"random\")\n",
    "fig = highlight_tick(figure=fig, str_match=\"genuine\", color=\"green\")\n",
    "plt.show()"
   ]
  },
  {
   "cell_type": "markdown",
   "metadata": {},
   "source": [
    "## Leshy on GPU"
   ]
  },
  {
   "cell_type": "code",
   "execution_count": 9,
   "metadata": {},
   "outputs": [],
   "source": [
    "model = LGBMRegressor(random_state=42, verbose=-1, device=\"gpu\")"
   ]
  },
  {
   "cell_type": "code",
   "execution_count": null,
   "metadata": {},
   "outputs": [],
   "source": [
    "%%time\n",
    "# Leshy\n",
    "feat_selector = Leshy(\n",
    "    model, n_estimators=20, verbose=1, max_iter=10, random_state=42, importance=\"native\"\n",
    ")\n",
    "feat_selector.fit(X, y, sample_weight=None)\n",
    "print(f\"The selected features: {feat_selector.get_feature_names_out()}\")\n",
    "print(f\"The agnostic ranking: {feat_selector.ranking_}\")\n",
    "print(f\"The naive ranking: {feat_selector.ranking_absolutes_}\")\n",
    "fig = feat_selector.plot_importance(n_feat_per_inch=5)\n",
    "\n",
    "# highlight synthetic random variable\n",
    "fig = highlight_tick(figure=fig, str_match=\"random\")\n",
    "fig = highlight_tick(figure=fig, str_match=\"genuine\", color=\"green\")\n",
    "plt.show()"
   ]
  },
  {
   "cell_type": "code",
   "execution_count": 11,
   "metadata": {},
   "outputs": [],
   "source": [
    "model = LGBMRegressor(random_state=42, verbose=-1, device=\"cpu\")"
   ]
  },
  {
   "cell_type": "code",
   "execution_count": null,
   "metadata": {},
   "outputs": [],
   "source": [
    "%%time\n",
    "# Leshy\n",
    "feat_selector = Leshy(\n",
    "    model, n_estimators=20, verbose=1, max_iter=10, random_state=42, importance=\"native\"\n",
    ")\n",
    "feat_selector.fit(X, y, sample_weight=None)\n",
    "print(f\"The selected features: {feat_selector.get_feature_names_out()}\")\n",
    "print(f\"The agnostic ranking: {feat_selector.ranking_}\")\n",
    "print(f\"The naive ranking: {feat_selector.ranking_absolutes_}\")\n",
    "fig = feat_selector.plot_importance(n_feat_per_inch=5)\n",
    "\n",
    "# highlight synthetic random variable\n",
    "fig = highlight_tick(figure=fig, str_match=\"random\")\n",
    "fig = highlight_tick(figure=fig, str_match=\"genuine\", color=\"green\")\n",
    "plt.show()"
   ]
  }
 ],
 "metadata": {
  "kernelspec": {
   "display_name": "arfs",
   "language": "python",
   "name": "python3"
  },
  "language_info": {
   "codemirror_mode": {
    "name": "ipython",
    "version": 3
   },
   "file_extension": ".py",
   "mimetype": "text/x-python",
   "name": "python",
   "nbconvert_exporter": "python",
   "pygments_lexer": "ipython3",
   "version": "3.10.14"
  },
  "orig_nbformat": 4
 },
 "nbformat": 4,
 "nbformat_minor": 2
}
