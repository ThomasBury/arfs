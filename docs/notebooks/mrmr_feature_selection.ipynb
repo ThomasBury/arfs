{
 "cells": [
  {
   "attachments": {},
   "cell_type": "markdown",
   "metadata": {},
   "source": [
    "# MRmR - regression and classification\n",
    "\n",
    "Maximal relevance minimal redundancy feature selection is, theoretically, a subset of the all relevant feature selection.\n",
    "\n"
   ]
  },
  {
   "cell_type": "code",
   "execution_count": 30,
   "metadata": {},
   "outputs": [],
   "source": [
    "# from IPython.core.display import display, HTML\n",
    "# display(HTML(\"<style>.container { width:95% !important; }</style>\"))\n",
    "import gc\n",
    "import arfs\n",
    "import pandas as pd\n",
    "import numpy as np\n",
    "import matplotlib.pyplot as plt\n",
    "\n",
    "from sys import getsizeof, path\n",
    "from arfs.utils import load_data\n",
    "from arfs.feature_selection import MinRedundancyMaxRelevance\n",
    "from arfs.preprocessing import TreeDiscretizer\n",
    "\n",
    "plt.style.use(\"fivethirtyeight\")\n",
    "rng = np.random.RandomState(seed=42)\n",
    "\n",
    "import warnings\n",
    "\n",
    "warnings.filterwarnings(\"ignore\")"
   ]
  },
  {
   "cell_type": "code",
   "execution_count": 31,
   "metadata": {},
   "outputs": [
    {
     "name": "stdout",
     "output_type": "stream",
     "text": [
      "Run with ARFS 2.2.0\n"
     ]
    }
   ],
   "source": [
    "print(f\"Run with ARFS {arfs.__version__}\")"
   ]
  },
  {
   "cell_type": "code",
   "execution_count": 32,
   "metadata": {},
   "outputs": [],
   "source": [
    "%matplotlib inline"
   ]
  },
  {
   "cell_type": "code",
   "execution_count": 33,
   "metadata": {},
   "outputs": [
    {
     "data": {
      "text/plain": [
       "164"
      ]
     },
     "execution_count": 33,
     "metadata": {},
     "output_type": "execute_result"
    }
   ],
   "source": [
    "gc.enable()\n",
    "gc.collect()"
   ]
  },
  {
   "attachments": {},
   "cell_type": "markdown",
   "metadata": {},
   "source": [
    "## Simple Usage\n",
    "In the following examples, I'll use a classical data set to which I added random predictors (numerical and categorical). A maximal relevance minimal redonduncy method should discard them.\n",
    "In the unit tests, you'll find examples using artifical data with genuine (correlated and non-linear) predictors and with some random/noise columns.\n",
    "\n",
    "## MRmr"
   ]
  },
  {
   "cell_type": "code",
   "execution_count": 34,
   "metadata": {},
   "outputs": [],
   "source": [
    "boston = load_data(name=\"Boston\")\n",
    "X, y = boston.data, boston.target\n",
    "y.name = \"target\""
   ]
  },
  {
   "cell_type": "code",
   "execution_count": 35,
   "metadata": {},
   "outputs": [
    {
     "data": {
      "text/plain": [
       "0    24.0\n",
       "1    21.6\n",
       "2    34.7\n",
       "3    33.4\n",
       "4    36.2\n",
       "Name: target, dtype: float64"
      ]
     },
     "execution_count": 35,
     "metadata": {},
     "output_type": "execute_result"
    }
   ],
   "source": [
    "y.head()"
   ]
  },
  {
   "cell_type": "code",
   "execution_count": 36,
   "metadata": {},
   "outputs": [
    {
     "data": {
      "text/plain": [
       "CRIM             float64\n",
       "ZN               float64\n",
       "INDUS            float64\n",
       "CHAS            category\n",
       "NOX              float64\n",
       "RM               float64\n",
       "AGE              float64\n",
       "DIS              float64\n",
       "RAD             category\n",
       "TAX              float64\n",
       "PTRATIO          float64\n",
       "B                float64\n",
       "LSTAT            float64\n",
       "random_num1      float64\n",
       "random_num2        int32\n",
       "random_cat      category\n",
       "random_cat_2    category\n",
       "genuine_num      float64\n",
       "dtype: object"
      ]
     },
     "execution_count": 36,
     "metadata": {},
     "output_type": "execute_result"
    }
   ],
   "source": [
    "X.dtypes"
   ]
  },
  {
   "cell_type": "code",
   "execution_count": 37,
   "metadata": {},
   "outputs": [
    {
     "data": {
      "text/html": [
       "<div>\n",
       "<style scoped>\n",
       "    .dataframe tbody tr th:only-of-type {\n",
       "        vertical-align: middle;\n",
       "    }\n",
       "\n",
       "    .dataframe tbody tr th {\n",
       "        vertical-align: top;\n",
       "    }\n",
       "\n",
       "    .dataframe thead th {\n",
       "        text-align: right;\n",
       "    }\n",
       "</style>\n",
       "<table border=\"1\" class=\"dataframe\">\n",
       "  <thead>\n",
       "    <tr style=\"text-align: right;\">\n",
       "      <th></th>\n",
       "      <th>CRIM</th>\n",
       "      <th>ZN</th>\n",
       "      <th>INDUS</th>\n",
       "      <th>CHAS</th>\n",
       "      <th>NOX</th>\n",
       "      <th>RM</th>\n",
       "      <th>AGE</th>\n",
       "      <th>DIS</th>\n",
       "      <th>RAD</th>\n",
       "      <th>TAX</th>\n",
       "      <th>PTRATIO</th>\n",
       "      <th>B</th>\n",
       "      <th>LSTAT</th>\n",
       "      <th>random_num1</th>\n",
       "      <th>random_num2</th>\n",
       "      <th>random_cat</th>\n",
       "      <th>random_cat_2</th>\n",
       "      <th>genuine_num</th>\n",
       "    </tr>\n",
       "  </thead>\n",
       "  <tbody>\n",
       "    <tr>\n",
       "      <th>0</th>\n",
       "      <td>0.00632</td>\n",
       "      <td>18.0</td>\n",
       "      <td>2.31</td>\n",
       "      <td>0.0</td>\n",
       "      <td>0.538</td>\n",
       "      <td>6.575</td>\n",
       "      <td>65.2</td>\n",
       "      <td>4.0900</td>\n",
       "      <td>1.0</td>\n",
       "      <td>296.0</td>\n",
       "      <td>15.3</td>\n",
       "      <td>396.90</td>\n",
       "      <td>4.98</td>\n",
       "      <td>0.496714</td>\n",
       "      <td>0</td>\n",
       "      <td>cat_3517</td>\n",
       "      <td>Platist</td>\n",
       "      <td>7.080332</td>\n",
       "    </tr>\n",
       "    <tr>\n",
       "      <th>1</th>\n",
       "      <td>0.02731</td>\n",
       "      <td>0.0</td>\n",
       "      <td>7.07</td>\n",
       "      <td>0.0</td>\n",
       "      <td>0.469</td>\n",
       "      <td>6.421</td>\n",
       "      <td>78.9</td>\n",
       "      <td>4.9671</td>\n",
       "      <td>2.0</td>\n",
       "      <td>242.0</td>\n",
       "      <td>17.8</td>\n",
       "      <td>396.90</td>\n",
       "      <td>9.14</td>\n",
       "      <td>-0.138264</td>\n",
       "      <td>0</td>\n",
       "      <td>cat_2397</td>\n",
       "      <td>MarkZ</td>\n",
       "      <td>5.245384</td>\n",
       "    </tr>\n",
       "    <tr>\n",
       "      <th>2</th>\n",
       "      <td>0.02729</td>\n",
       "      <td>0.0</td>\n",
       "      <td>7.07</td>\n",
       "      <td>0.0</td>\n",
       "      <td>0.469</td>\n",
       "      <td>7.185</td>\n",
       "      <td>61.1</td>\n",
       "      <td>4.9671</td>\n",
       "      <td>2.0</td>\n",
       "      <td>242.0</td>\n",
       "      <td>17.8</td>\n",
       "      <td>392.83</td>\n",
       "      <td>4.03</td>\n",
       "      <td>0.647689</td>\n",
       "      <td>0</td>\n",
       "      <td>cat_3735</td>\n",
       "      <td>Dracula</td>\n",
       "      <td>6.375795</td>\n",
       "    </tr>\n",
       "    <tr>\n",
       "      <th>3</th>\n",
       "      <td>0.03237</td>\n",
       "      <td>0.0</td>\n",
       "      <td>2.18</td>\n",
       "      <td>0.0</td>\n",
       "      <td>0.458</td>\n",
       "      <td>6.998</td>\n",
       "      <td>45.8</td>\n",
       "      <td>6.0622</td>\n",
       "      <td>3.0</td>\n",
       "      <td>222.0</td>\n",
       "      <td>18.7</td>\n",
       "      <td>394.63</td>\n",
       "      <td>2.94</td>\n",
       "      <td>1.523030</td>\n",
       "      <td>0</td>\n",
       "      <td>cat_2870</td>\n",
       "      <td>Bejita</td>\n",
       "      <td>6.725118</td>\n",
       "    </tr>\n",
       "    <tr>\n",
       "      <th>4</th>\n",
       "      <td>0.06905</td>\n",
       "      <td>0.0</td>\n",
       "      <td>2.18</td>\n",
       "      <td>0.0</td>\n",
       "      <td>0.458</td>\n",
       "      <td>7.147</td>\n",
       "      <td>54.2</td>\n",
       "      <td>6.0622</td>\n",
       "      <td>3.0</td>\n",
       "      <td>222.0</td>\n",
       "      <td>18.7</td>\n",
       "      <td>396.90</td>\n",
       "      <td>5.33</td>\n",
       "      <td>-0.234153</td>\n",
       "      <td>4</td>\n",
       "      <td>cat_1160</td>\n",
       "      <td>Variance</td>\n",
       "      <td>7.867781</td>\n",
       "    </tr>\n",
       "  </tbody>\n",
       "</table>\n",
       "</div>"
      ],
      "text/plain": [
       "      CRIM    ZN  INDUS CHAS    NOX     RM   AGE     DIS  RAD    TAX  PTRATIO  \\\n",
       "0  0.00632  18.0   2.31  0.0  0.538  6.575  65.2  4.0900  1.0  296.0     15.3   \n",
       "1  0.02731   0.0   7.07  0.0  0.469  6.421  78.9  4.9671  2.0  242.0     17.8   \n",
       "2  0.02729   0.0   7.07  0.0  0.469  7.185  61.1  4.9671  2.0  242.0     17.8   \n",
       "3  0.03237   0.0   2.18  0.0  0.458  6.998  45.8  6.0622  3.0  222.0     18.7   \n",
       "4  0.06905   0.0   2.18  0.0  0.458  7.147  54.2  6.0622  3.0  222.0     18.7   \n",
       "\n",
       "        B  LSTAT  random_num1  random_num2 random_cat random_cat_2  \\\n",
       "0  396.90   4.98     0.496714            0   cat_3517      Platist   \n",
       "1  396.90   9.14    -0.138264            0   cat_2397        MarkZ   \n",
       "2  392.83   4.03     0.647689            0   cat_3735      Dracula   \n",
       "3  394.63   2.94     1.523030            0   cat_2870       Bejita   \n",
       "4  396.90   5.33    -0.234153            4   cat_1160     Variance   \n",
       "\n",
       "   genuine_num  \n",
       "0     7.080332  \n",
       "1     5.245384  \n",
       "2     6.375795  \n",
       "3     6.725118  \n",
       "4     7.867781  "
      ]
     },
     "execution_count": 37,
     "metadata": {},
     "output_type": "execute_result"
    }
   ],
   "source": [
    "X.head()"
   ]
  },
  {
   "cell_type": "code",
   "execution_count": 38,
   "metadata": {},
   "outputs": [
    {
     "data": {
      "application/vnd.jupyter.widget-view+json": {
       "model_id": "f3fba6e1b9bc4b98b5af817e92c0d53e",
       "version_major": 2,
       "version_minor": 0
      },
      "text/plain": [
       "  0%|          | 0/5 [00:00<?, ?it/s]"
      ]
     },
     "metadata": {},
     "output_type": "display_data"
    },
    {
     "data": {
      "text/html": [
       "<style>#sk-container-id-4 {color: black;background-color: white;}#sk-container-id-4 pre{padding: 0;}#sk-container-id-4 div.sk-toggleable {background-color: white;}#sk-container-id-4 label.sk-toggleable__label {cursor: pointer;display: block;width: 100%;margin-bottom: 0;padding: 0.3em;box-sizing: border-box;text-align: center;}#sk-container-id-4 label.sk-toggleable__label-arrow:before {content: \"▸\";float: left;margin-right: 0.25em;color: #696969;}#sk-container-id-4 label.sk-toggleable__label-arrow:hover:before {color: black;}#sk-container-id-4 div.sk-estimator:hover label.sk-toggleable__label-arrow:before {color: black;}#sk-container-id-4 div.sk-toggleable__content {max-height: 0;max-width: 0;overflow: hidden;text-align: left;background-color: #f0f8ff;}#sk-container-id-4 div.sk-toggleable__content pre {margin: 0.2em;color: black;border-radius: 0.25em;background-color: #f0f8ff;}#sk-container-id-4 input.sk-toggleable__control:checked~div.sk-toggleable__content {max-height: 200px;max-width: 100%;overflow: auto;}#sk-container-id-4 input.sk-toggleable__control:checked~label.sk-toggleable__label-arrow:before {content: \"▾\";}#sk-container-id-4 div.sk-estimator input.sk-toggleable__control:checked~label.sk-toggleable__label {background-color: #d4ebff;}#sk-container-id-4 div.sk-label input.sk-toggleable__control:checked~label.sk-toggleable__label {background-color: #d4ebff;}#sk-container-id-4 input.sk-hidden--visually {border: 0;clip: rect(1px 1px 1px 1px);clip: rect(1px, 1px, 1px, 1px);height: 1px;margin: -1px;overflow: hidden;padding: 0;position: absolute;width: 1px;}#sk-container-id-4 div.sk-estimator {font-family: monospace;background-color: #f0f8ff;border: 1px dotted black;border-radius: 0.25em;box-sizing: border-box;margin-bottom: 0.5em;}#sk-container-id-4 div.sk-estimator:hover {background-color: #d4ebff;}#sk-container-id-4 div.sk-parallel-item::after {content: \"\";width: 100%;border-bottom: 1px solid gray;flex-grow: 1;}#sk-container-id-4 div.sk-label:hover label.sk-toggleable__label {background-color: #d4ebff;}#sk-container-id-4 div.sk-serial::before {content: \"\";position: absolute;border-left: 1px solid gray;box-sizing: border-box;top: 0;bottom: 0;left: 50%;z-index: 0;}#sk-container-id-4 div.sk-serial {display: flex;flex-direction: column;align-items: center;background-color: white;padding-right: 0.2em;padding-left: 0.2em;position: relative;}#sk-container-id-4 div.sk-item {position: relative;z-index: 1;}#sk-container-id-4 div.sk-parallel {display: flex;align-items: stretch;justify-content: center;background-color: white;position: relative;}#sk-container-id-4 div.sk-item::before, #sk-container-id-4 div.sk-parallel-item::before {content: \"\";position: absolute;border-left: 1px solid gray;box-sizing: border-box;top: 0;bottom: 0;left: 50%;z-index: -1;}#sk-container-id-4 div.sk-parallel-item {display: flex;flex-direction: column;z-index: 1;position: relative;background-color: white;}#sk-container-id-4 div.sk-parallel-item:first-child::after {align-self: flex-end;width: 50%;}#sk-container-id-4 div.sk-parallel-item:last-child::after {align-self: flex-start;width: 50%;}#sk-container-id-4 div.sk-parallel-item:only-child::after {width: 0;}#sk-container-id-4 div.sk-dashed-wrapped {border: 1px dashed gray;margin: 0 0.4em 0.5em 0.4em;box-sizing: border-box;padding-bottom: 0.4em;background-color: white;}#sk-container-id-4 div.sk-label label {font-family: monospace;font-weight: bold;display: inline-block;line-height: 1.2em;}#sk-container-id-4 div.sk-label-container {text-align: center;}#sk-container-id-4 div.sk-container {/* jupyter's `normalize.less` sets `[hidden] { display: none; }` but bootstrap.min.css set `[hidden] { display: none !important; }` so we also need the `!important` here to be able to override the default hidden behavior on the sphinx rendered scikit-learn.org. See: https://github.com/scikit-learn/scikit-learn/issues/21755 */display: inline-block !important;position: relative;}#sk-container-id-4 div.sk-text-repr-fallback {display: none;}</style><div id=\"sk-container-id-4\" class=\"sk-top-container\"><div class=\"sk-text-repr-fallback\"><pre>MinRedundancyMaxRelevance(n_features_to_select=5, n_jobs=-1,\n",
       "                          redundancy_func=functools.partial(&lt;function association_series at 0x000001C620DAA7A0&gt;, n_jobs=-1, normalize=True),\n",
       "                          relevance_func=functools.partial(&lt;function f_stat_regression_parallel at 0x000001C620DAAC20&gt;, n_jobs=-1))</pre><b>In a Jupyter environment, please rerun this cell to show the HTML representation or trust the notebook. <br />On GitHub, the HTML representation is unable to render, please try loading this page with nbviewer.org.</b></div><div class=\"sk-container\" hidden><div class=\"sk-item\"><div class=\"sk-estimator sk-toggleable\"><input class=\"sk-toggleable__control sk-hidden--visually\" id=\"sk-estimator-id-4\" type=\"checkbox\" checked><label for=\"sk-estimator-id-4\" class=\"sk-toggleable__label sk-toggleable__label-arrow\">MinRedundancyMaxRelevance</label><div class=\"sk-toggleable__content\"><pre>MinRedundancyMaxRelevance(n_features_to_select=5, n_jobs=-1,\n",
       "                          redundancy_func=functools.partial(&lt;function association_series at 0x000001C620DAA7A0&gt;, n_jobs=-1, normalize=True),\n",
       "                          relevance_func=functools.partial(&lt;function f_stat_regression_parallel at 0x000001C620DAAC20&gt;, n_jobs=-1))</pre></div></div></div></div></div>"
      ],
      "text/plain": [
       "MinRedundancyMaxRelevance(n_features_to_select=5, n_jobs=-1,\n",
       "                          redundancy_func=functools.partial(<function association_series at 0x000001C620DAA7A0>, n_jobs=-1, normalize=True),\n",
       "                          relevance_func=functools.partial(<function f_stat_regression_parallel at 0x000001C620DAAC20>, n_jobs=-1))"
      ]
     },
     "execution_count": 38,
     "metadata": {},
     "output_type": "execute_result"
    }
   ],
   "source": [
    "fs_mrmr = MinRedundancyMaxRelevance(\n",
    "    n_features_to_select=5,\n",
    "    relevance_func=None,\n",
    "    redundancy_func=None,\n",
    "    task=\"regression\",  # \"classification\",\n",
    "    denominator_func=np.mean,\n",
    "    only_same_domain=False,\n",
    "    return_scores=False,\n",
    "    show_progress=True,\n",
    "    n_jobs=-1,\n",
    ")\n",
    "\n",
    "# fs_mrmr.fit(X=X, y=y.astype(str), sample_weight=None)\n",
    "fs_mrmr.fit(X=X, y=y, sample_weight=None)"
   ]
  },
  {
   "cell_type": "code",
   "execution_count": 39,
   "metadata": {},
   "outputs": [
    {
     "data": {
      "text/html": [
       "<div>\n",
       "<style scoped>\n",
       "    .dataframe tbody tr th:only-of-type {\n",
       "        vertical-align: middle;\n",
       "    }\n",
       "\n",
       "    .dataframe tbody tr th {\n",
       "        vertical-align: top;\n",
       "    }\n",
       "\n",
       "    .dataframe thead th {\n",
       "        text-align: right;\n",
       "    }\n",
       "</style>\n",
       "<table border=\"1\" class=\"dataframe\">\n",
       "  <thead>\n",
       "    <tr style=\"text-align: right;\">\n",
       "      <th></th>\n",
       "      <th>genuine_num</th>\n",
       "      <th>LSTAT</th>\n",
       "      <th>RM</th>\n",
       "      <th>CHAS</th>\n",
       "      <th>RAD</th>\n",
       "    </tr>\n",
       "  </thead>\n",
       "  <tbody>\n",
       "    <tr>\n",
       "      <th>0</th>\n",
       "      <td>7.080332</td>\n",
       "      <td>4.98</td>\n",
       "      <td>6.575</td>\n",
       "      <td>0.0</td>\n",
       "      <td>1.0</td>\n",
       "    </tr>\n",
       "    <tr>\n",
       "      <th>1</th>\n",
       "      <td>5.245384</td>\n",
       "      <td>9.14</td>\n",
       "      <td>6.421</td>\n",
       "      <td>0.0</td>\n",
       "      <td>2.0</td>\n",
       "    </tr>\n",
       "    <tr>\n",
       "      <th>2</th>\n",
       "      <td>6.375795</td>\n",
       "      <td>4.03</td>\n",
       "      <td>7.185</td>\n",
       "      <td>0.0</td>\n",
       "      <td>2.0</td>\n",
       "    </tr>\n",
       "    <tr>\n",
       "      <th>3</th>\n",
       "      <td>6.725118</td>\n",
       "      <td>2.94</td>\n",
       "      <td>6.998</td>\n",
       "      <td>0.0</td>\n",
       "      <td>3.0</td>\n",
       "    </tr>\n",
       "    <tr>\n",
       "      <th>4</th>\n",
       "      <td>7.867781</td>\n",
       "      <td>5.33</td>\n",
       "      <td>7.147</td>\n",
       "      <td>0.0</td>\n",
       "      <td>3.0</td>\n",
       "    </tr>\n",
       "  </tbody>\n",
       "</table>\n",
       "</div>"
      ],
      "text/plain": [
       "   genuine_num  LSTAT     RM CHAS  RAD\n",
       "0     7.080332   4.98  6.575  0.0  1.0\n",
       "1     5.245384   9.14  6.421  0.0  2.0\n",
       "2     6.375795   4.03  7.185  0.0  2.0\n",
       "3     6.725118   2.94  6.998  0.0  3.0\n",
       "4     7.867781   5.33  7.147  0.0  3.0"
      ]
     },
     "execution_count": 39,
     "metadata": {},
     "output_type": "execute_result"
    }
   ],
   "source": [
    "X_trans = fs_mrmr.transform(X)\n",
    "X_trans.head()"
   ]
  },
  {
   "cell_type": "markdown",
   "metadata": {},
   "source": [
    "Using a single job, avoiding the overhead of starting multiple processes (for moderate size data)"
   ]
  },
  {
   "cell_type": "code",
   "execution_count": 40,
   "metadata": {},
   "outputs": [
    {
     "data": {
      "application/vnd.jupyter.widget-view+json": {
       "model_id": "c976973c083a4f05afab5393d4d743e6",
       "version_major": 2,
       "version_minor": 0
      },
      "text/plain": [
       "  0%|          | 0/5 [00:00<?, ?it/s]"
      ]
     },
     "metadata": {},
     "output_type": "display_data"
    },
    {
     "data": {
      "text/html": [
       "<style>#sk-container-id-5 {color: black;background-color: white;}#sk-container-id-5 pre{padding: 0;}#sk-container-id-5 div.sk-toggleable {background-color: white;}#sk-container-id-5 label.sk-toggleable__label {cursor: pointer;display: block;width: 100%;margin-bottom: 0;padding: 0.3em;box-sizing: border-box;text-align: center;}#sk-container-id-5 label.sk-toggleable__label-arrow:before {content: \"▸\";float: left;margin-right: 0.25em;color: #696969;}#sk-container-id-5 label.sk-toggleable__label-arrow:hover:before {color: black;}#sk-container-id-5 div.sk-estimator:hover label.sk-toggleable__label-arrow:before {color: black;}#sk-container-id-5 div.sk-toggleable__content {max-height: 0;max-width: 0;overflow: hidden;text-align: left;background-color: #f0f8ff;}#sk-container-id-5 div.sk-toggleable__content pre {margin: 0.2em;color: black;border-radius: 0.25em;background-color: #f0f8ff;}#sk-container-id-5 input.sk-toggleable__control:checked~div.sk-toggleable__content {max-height: 200px;max-width: 100%;overflow: auto;}#sk-container-id-5 input.sk-toggleable__control:checked~label.sk-toggleable__label-arrow:before {content: \"▾\";}#sk-container-id-5 div.sk-estimator input.sk-toggleable__control:checked~label.sk-toggleable__label {background-color: #d4ebff;}#sk-container-id-5 div.sk-label input.sk-toggleable__control:checked~label.sk-toggleable__label {background-color: #d4ebff;}#sk-container-id-5 input.sk-hidden--visually {border: 0;clip: rect(1px 1px 1px 1px);clip: rect(1px, 1px, 1px, 1px);height: 1px;margin: -1px;overflow: hidden;padding: 0;position: absolute;width: 1px;}#sk-container-id-5 div.sk-estimator {font-family: monospace;background-color: #f0f8ff;border: 1px dotted black;border-radius: 0.25em;box-sizing: border-box;margin-bottom: 0.5em;}#sk-container-id-5 div.sk-estimator:hover {background-color: #d4ebff;}#sk-container-id-5 div.sk-parallel-item::after {content: \"\";width: 100%;border-bottom: 1px solid gray;flex-grow: 1;}#sk-container-id-5 div.sk-label:hover label.sk-toggleable__label {background-color: #d4ebff;}#sk-container-id-5 div.sk-serial::before {content: \"\";position: absolute;border-left: 1px solid gray;box-sizing: border-box;top: 0;bottom: 0;left: 50%;z-index: 0;}#sk-container-id-5 div.sk-serial {display: flex;flex-direction: column;align-items: center;background-color: white;padding-right: 0.2em;padding-left: 0.2em;position: relative;}#sk-container-id-5 div.sk-item {position: relative;z-index: 1;}#sk-container-id-5 div.sk-parallel {display: flex;align-items: stretch;justify-content: center;background-color: white;position: relative;}#sk-container-id-5 div.sk-item::before, #sk-container-id-5 div.sk-parallel-item::before {content: \"\";position: absolute;border-left: 1px solid gray;box-sizing: border-box;top: 0;bottom: 0;left: 50%;z-index: -1;}#sk-container-id-5 div.sk-parallel-item {display: flex;flex-direction: column;z-index: 1;position: relative;background-color: white;}#sk-container-id-5 div.sk-parallel-item:first-child::after {align-self: flex-end;width: 50%;}#sk-container-id-5 div.sk-parallel-item:last-child::after {align-self: flex-start;width: 50%;}#sk-container-id-5 div.sk-parallel-item:only-child::after {width: 0;}#sk-container-id-5 div.sk-dashed-wrapped {border: 1px dashed gray;margin: 0 0.4em 0.5em 0.4em;box-sizing: border-box;padding-bottom: 0.4em;background-color: white;}#sk-container-id-5 div.sk-label label {font-family: monospace;font-weight: bold;display: inline-block;line-height: 1.2em;}#sk-container-id-5 div.sk-label-container {text-align: center;}#sk-container-id-5 div.sk-container {/* jupyter's `normalize.less` sets `[hidden] { display: none; }` but bootstrap.min.css set `[hidden] { display: none !important; }` so we also need the `!important` here to be able to override the default hidden behavior on the sphinx rendered scikit-learn.org. See: https://github.com/scikit-learn/scikit-learn/issues/21755 */display: inline-block !important;position: relative;}#sk-container-id-5 div.sk-text-repr-fallback {display: none;}</style><div id=\"sk-container-id-5\" class=\"sk-top-container\"><div class=\"sk-text-repr-fallback\"><pre>MinRedundancyMaxRelevance(n_features_to_select=5,\n",
       "                          redundancy_func=functools.partial(&lt;function association_series at 0x000001C620DAA7A0&gt;, n_jobs=1, normalize=True),\n",
       "                          relevance_func=functools.partial(&lt;function f_stat_regression_parallel at 0x000001C620DAAC20&gt;, n_jobs=1))</pre><b>In a Jupyter environment, please rerun this cell to show the HTML representation or trust the notebook. <br />On GitHub, the HTML representation is unable to render, please try loading this page with nbviewer.org.</b></div><div class=\"sk-container\" hidden><div class=\"sk-item\"><div class=\"sk-estimator sk-toggleable\"><input class=\"sk-toggleable__control sk-hidden--visually\" id=\"sk-estimator-id-5\" type=\"checkbox\" checked><label for=\"sk-estimator-id-5\" class=\"sk-toggleable__label sk-toggleable__label-arrow\">MinRedundancyMaxRelevance</label><div class=\"sk-toggleable__content\"><pre>MinRedundancyMaxRelevance(n_features_to_select=5,\n",
       "                          redundancy_func=functools.partial(&lt;function association_series at 0x000001C620DAA7A0&gt;, n_jobs=1, normalize=True),\n",
       "                          relevance_func=functools.partial(&lt;function f_stat_regression_parallel at 0x000001C620DAAC20&gt;, n_jobs=1))</pre></div></div></div></div></div>"
      ],
      "text/plain": [
       "MinRedundancyMaxRelevance(n_features_to_select=5,\n",
       "                          redundancy_func=functools.partial(<function association_series at 0x000001C620DAA7A0>, n_jobs=1, normalize=True),\n",
       "                          relevance_func=functools.partial(<function f_stat_regression_parallel at 0x000001C620DAAC20>, n_jobs=1))"
      ]
     },
     "execution_count": 40,
     "metadata": {},
     "output_type": "execute_result"
    }
   ],
   "source": [
    "fs_mrmr = MinRedundancyMaxRelevance(\n",
    "    n_features_to_select=5,\n",
    "    relevance_func=None,\n",
    "    redundancy_func=None,\n",
    "    task=\"regression\",  # \"classification\",\n",
    "    denominator_func=np.mean,\n",
    "    only_same_domain=False,\n",
    "    return_scores=False,\n",
    "    show_progress=True,\n",
    "    n_jobs=1,\n",
    ")\n",
    "\n",
    "fs_mrmr.fit(X=X, y=y, sample_weight=None)"
   ]
  },
  {
   "cell_type": "code",
   "execution_count": null,
   "metadata": {},
   "outputs": [],
   "source": []
  },
  {
   "cell_type": "code",
   "execution_count": 41,
   "metadata": {},
   "outputs": [
    {
     "data": {
      "text/plain": [
       "array(['CRIM', 'ZN', 'INDUS', 'CHAS', 'NOX', 'RM', 'AGE', 'DIS', 'RAD',\n",
       "       'TAX', 'PTRATIO', 'B', 'LSTAT', 'random_num1', 'random_num2',\n",
       "       'random_cat', 'random_cat_2', 'genuine_num', 'target'],\n",
       "      dtype=object)"
      ]
     },
     "execution_count": 41,
     "metadata": {},
     "output_type": "execute_result"
    }
   ],
   "source": [
    "fs_mrmr.feature_names_in_"
   ]
  },
  {
   "cell_type": "code",
   "execution_count": 42,
   "metadata": {},
   "outputs": [
    {
     "data": {
      "text/plain": [
       "array([False, False, False,  True, False,  True, False, False,  True,\n",
       "       False, False, False,  True, False, False, False, False,  True,\n",
       "       False])"
      ]
     },
     "execution_count": 42,
     "metadata": {},
     "output_type": "execute_result"
    }
   ],
   "source": [
    "fs_mrmr.support_"
   ]
  },
  {
   "cell_type": "code",
   "execution_count": 43,
   "metadata": {},
   "outputs": [
    {
     "data": {
      "text/plain": [
       "array(['CHAS', 'RM', 'RAD', 'LSTAT', 'genuine_num'], dtype=object)"
      ]
     },
     "execution_count": 43,
     "metadata": {},
     "output_type": "execute_result"
    }
   ],
   "source": [
    "fs_mrmr.get_feature_names_out()"
   ]
  },
  {
   "cell_type": "code",
   "execution_count": 44,
   "metadata": {},
   "outputs": [
    {
     "data": {
      "text/html": [
       "<div>\n",
       "<style scoped>\n",
       "    .dataframe tbody tr th:only-of-type {\n",
       "        vertical-align: middle;\n",
       "    }\n",
       "\n",
       "    .dataframe tbody tr th {\n",
       "        vertical-align: top;\n",
       "    }\n",
       "\n",
       "    .dataframe thead th {\n",
       "        text-align: right;\n",
       "    }\n",
       "</style>\n",
       "<table border=\"1\" class=\"dataframe\">\n",
       "  <thead>\n",
       "    <tr style=\"text-align: right;\">\n",
       "      <th></th>\n",
       "      <th>mrmr</th>\n",
       "      <th>relevance</th>\n",
       "      <th>redundancy</th>\n",
       "    </tr>\n",
       "  </thead>\n",
       "  <tbody>\n",
       "    <tr>\n",
       "      <th>genuine_num</th>\n",
       "      <td>inf</td>\n",
       "      <td>2.461769</td>\n",
       "      <td>0.000000</td>\n",
       "    </tr>\n",
       "    <tr>\n",
       "      <th>LSTAT</th>\n",
       "      <td>1636.219687</td>\n",
       "      <td>1.636220</td>\n",
       "      <td>0.001000</td>\n",
       "    </tr>\n",
       "    <tr>\n",
       "      <th>RM</th>\n",
       "      <td>3.249000</td>\n",
       "      <td>1.106967</td>\n",
       "      <td>0.340710</td>\n",
       "    </tr>\n",
       "    <tr>\n",
       "      <th>CHAS</th>\n",
       "      <td>1.752553</td>\n",
       "      <td>0.731266</td>\n",
       "      <td>0.417258</td>\n",
       "    </tr>\n",
       "    <tr>\n",
       "      <th>RAD</th>\n",
       "      <td>2.070764</td>\n",
       "      <td>0.990593</td>\n",
       "      <td>0.478371</td>\n",
       "    </tr>\n",
       "  </tbody>\n",
       "</table>\n",
       "</div>"
      ],
      "text/plain": [
       "                    mrmr  relevance  redundancy\n",
       "genuine_num          inf   2.461769    0.000000\n",
       "LSTAT        1636.219687   1.636220    0.001000\n",
       "RM              3.249000   1.106967    0.340710\n",
       "CHAS            1.752553   0.731266    0.417258\n",
       "RAD             2.070764   0.990593    0.478371"
      ]
     },
     "execution_count": 44,
     "metadata": {},
     "output_type": "execute_result"
    }
   ],
   "source": [
    "fs_mrmr.ranking_"
   ]
  },
  {
   "attachments": {},
   "cell_type": "markdown",
   "metadata": {},
   "source": [
    "## Classification "
   ]
  },
  {
   "cell_type": "code",
   "execution_count": 45,
   "metadata": {},
   "outputs": [],
   "source": [
    "titanic = load_data(name=\"Titanic\")\n",
    "X, y = titanic.data, titanic.target\n",
    "\n",
    "# y = y.astype('category')\n",
    "y.name = \"target\""
   ]
  },
  {
   "cell_type": "code",
   "execution_count": 46,
   "metadata": {},
   "outputs": [
    {
     "data": {
      "text/html": [
       "<div>\n",
       "<style scoped>\n",
       "    .dataframe tbody tr th:only-of-type {\n",
       "        vertical-align: middle;\n",
       "    }\n",
       "\n",
       "    .dataframe tbody tr th {\n",
       "        vertical-align: top;\n",
       "    }\n",
       "\n",
       "    .dataframe thead th {\n",
       "        text-align: right;\n",
       "    }\n",
       "</style>\n",
       "<table border=\"1\" class=\"dataframe\">\n",
       "  <thead>\n",
       "    <tr style=\"text-align: right;\">\n",
       "      <th></th>\n",
       "      <th>pclass</th>\n",
       "      <th>sex</th>\n",
       "      <th>embarked</th>\n",
       "      <th>random_cat</th>\n",
       "      <th>is_alone</th>\n",
       "      <th>title</th>\n",
       "      <th>age</th>\n",
       "      <th>family_size</th>\n",
       "      <th>fare</th>\n",
       "      <th>random_num</th>\n",
       "    </tr>\n",
       "  </thead>\n",
       "  <tbody>\n",
       "    <tr>\n",
       "      <th>0</th>\n",
       "      <td>1</td>\n",
       "      <td>female</td>\n",
       "      <td>S</td>\n",
       "      <td>Morty</td>\n",
       "      <td>1</td>\n",
       "      <td>Mrs</td>\n",
       "      <td>29.0000</td>\n",
       "      <td>0.0</td>\n",
       "      <td>211.3375</td>\n",
       "      <td>0.496714</td>\n",
       "    </tr>\n",
       "    <tr>\n",
       "      <th>1</th>\n",
       "      <td>1</td>\n",
       "      <td>male</td>\n",
       "      <td>S</td>\n",
       "      <td>Morty</td>\n",
       "      <td>0</td>\n",
       "      <td>Master</td>\n",
       "      <td>0.9167</td>\n",
       "      <td>3.0</td>\n",
       "      <td>151.5500</td>\n",
       "      <td>-0.138264</td>\n",
       "    </tr>\n",
       "    <tr>\n",
       "      <th>2</th>\n",
       "      <td>1</td>\n",
       "      <td>female</td>\n",
       "      <td>S</td>\n",
       "      <td>Fry</td>\n",
       "      <td>0</td>\n",
       "      <td>Mrs</td>\n",
       "      <td>2.0000</td>\n",
       "      <td>3.0</td>\n",
       "      <td>151.5500</td>\n",
       "      <td>0.647689</td>\n",
       "    </tr>\n",
       "    <tr>\n",
       "      <th>3</th>\n",
       "      <td>1</td>\n",
       "      <td>male</td>\n",
       "      <td>S</td>\n",
       "      <td>Cartman</td>\n",
       "      <td>0</td>\n",
       "      <td>Mr</td>\n",
       "      <td>30.0000</td>\n",
       "      <td>3.0</td>\n",
       "      <td>151.5500</td>\n",
       "      <td>1.523030</td>\n",
       "    </tr>\n",
       "    <tr>\n",
       "      <th>4</th>\n",
       "      <td>1</td>\n",
       "      <td>female</td>\n",
       "      <td>S</td>\n",
       "      <td>Vador</td>\n",
       "      <td>0</td>\n",
       "      <td>Mrs</td>\n",
       "      <td>25.0000</td>\n",
       "      <td>3.0</td>\n",
       "      <td>151.5500</td>\n",
       "      <td>-0.234153</td>\n",
       "    </tr>\n",
       "  </tbody>\n",
       "</table>\n",
       "</div>"
      ],
      "text/plain": [
       "  pclass     sex embarked random_cat is_alone   title      age  family_size  \\\n",
       "0      1  female        S      Morty        1     Mrs  29.0000          0.0   \n",
       "1      1    male        S      Morty        0  Master   0.9167          3.0   \n",
       "2      1  female        S        Fry        0     Mrs   2.0000          3.0   \n",
       "3      1    male        S    Cartman        0      Mr  30.0000          3.0   \n",
       "4      1  female        S      Vador        0     Mrs  25.0000          3.0   \n",
       "\n",
       "       fare  random_num  \n",
       "0  211.3375    0.496714  \n",
       "1  151.5500   -0.138264  \n",
       "2  151.5500    0.647689  \n",
       "3  151.5500    1.523030  \n",
       "4  151.5500   -0.234153  "
      ]
     },
     "execution_count": 46,
     "metadata": {},
     "output_type": "execute_result"
    }
   ],
   "source": [
    "X.head()"
   ]
  },
  {
   "cell_type": "code",
   "execution_count": 47,
   "metadata": {},
   "outputs": [
    {
     "data": {
      "text/plain": [
       "pclass          object\n",
       "sex             object\n",
       "embarked        object\n",
       "random_cat      object\n",
       "is_alone        object\n",
       "title           object\n",
       "age            float64\n",
       "family_size    float64\n",
       "fare           float64\n",
       "random_num     float64\n",
       "dtype: object"
      ]
     },
     "execution_count": 47,
     "metadata": {},
     "output_type": "execute_result"
    }
   ],
   "source": [
    "X.dtypes"
   ]
  },
  {
   "cell_type": "code",
   "execution_count": 48,
   "metadata": {},
   "outputs": [
    {
     "data": {
      "text/plain": [
       "0       1\n",
       "1       1\n",
       "2       0\n",
       "3       0\n",
       "4       0\n",
       "       ..\n",
       "1304    0\n",
       "1305    0\n",
       "1306    0\n",
       "1307    0\n",
       "1308    0\n",
       "Name: target, Length: 1309, dtype: category\n",
       "Categories (2, object): ['0', '1']"
      ]
     },
     "execution_count": 48,
     "metadata": {},
     "output_type": "execute_result"
    }
   ],
   "source": [
    "y"
   ]
  },
  {
   "cell_type": "code",
   "execution_count": 49,
   "metadata": {},
   "outputs": [
    {
     "data": {
      "application/vnd.jupyter.widget-view+json": {
       "model_id": "e2e5c0dcdeff48d682fe5ae617f67253",
       "version_major": 2,
       "version_minor": 0
      },
      "text/plain": [
       "  0%|          | 0/5 [00:00<?, ?it/s]"
      ]
     },
     "metadata": {},
     "output_type": "display_data"
    },
    {
     "data": {
      "text/html": [
       "<style>#sk-container-id-6 {color: black;background-color: white;}#sk-container-id-6 pre{padding: 0;}#sk-container-id-6 div.sk-toggleable {background-color: white;}#sk-container-id-6 label.sk-toggleable__label {cursor: pointer;display: block;width: 100%;margin-bottom: 0;padding: 0.3em;box-sizing: border-box;text-align: center;}#sk-container-id-6 label.sk-toggleable__label-arrow:before {content: \"▸\";float: left;margin-right: 0.25em;color: #696969;}#sk-container-id-6 label.sk-toggleable__label-arrow:hover:before {color: black;}#sk-container-id-6 div.sk-estimator:hover label.sk-toggleable__label-arrow:before {color: black;}#sk-container-id-6 div.sk-toggleable__content {max-height: 0;max-width: 0;overflow: hidden;text-align: left;background-color: #f0f8ff;}#sk-container-id-6 div.sk-toggleable__content pre {margin: 0.2em;color: black;border-radius: 0.25em;background-color: #f0f8ff;}#sk-container-id-6 input.sk-toggleable__control:checked~div.sk-toggleable__content {max-height: 200px;max-width: 100%;overflow: auto;}#sk-container-id-6 input.sk-toggleable__control:checked~label.sk-toggleable__label-arrow:before {content: \"▾\";}#sk-container-id-6 div.sk-estimator input.sk-toggleable__control:checked~label.sk-toggleable__label {background-color: #d4ebff;}#sk-container-id-6 div.sk-label input.sk-toggleable__control:checked~label.sk-toggleable__label {background-color: #d4ebff;}#sk-container-id-6 input.sk-hidden--visually {border: 0;clip: rect(1px 1px 1px 1px);clip: rect(1px, 1px, 1px, 1px);height: 1px;margin: -1px;overflow: hidden;padding: 0;position: absolute;width: 1px;}#sk-container-id-6 div.sk-estimator {font-family: monospace;background-color: #f0f8ff;border: 1px dotted black;border-radius: 0.25em;box-sizing: border-box;margin-bottom: 0.5em;}#sk-container-id-6 div.sk-estimator:hover {background-color: #d4ebff;}#sk-container-id-6 div.sk-parallel-item::after {content: \"\";width: 100%;border-bottom: 1px solid gray;flex-grow: 1;}#sk-container-id-6 div.sk-label:hover label.sk-toggleable__label {background-color: #d4ebff;}#sk-container-id-6 div.sk-serial::before {content: \"\";position: absolute;border-left: 1px solid gray;box-sizing: border-box;top: 0;bottom: 0;left: 50%;z-index: 0;}#sk-container-id-6 div.sk-serial {display: flex;flex-direction: column;align-items: center;background-color: white;padding-right: 0.2em;padding-left: 0.2em;position: relative;}#sk-container-id-6 div.sk-item {position: relative;z-index: 1;}#sk-container-id-6 div.sk-parallel {display: flex;align-items: stretch;justify-content: center;background-color: white;position: relative;}#sk-container-id-6 div.sk-item::before, #sk-container-id-6 div.sk-parallel-item::before {content: \"\";position: absolute;border-left: 1px solid gray;box-sizing: border-box;top: 0;bottom: 0;left: 50%;z-index: -1;}#sk-container-id-6 div.sk-parallel-item {display: flex;flex-direction: column;z-index: 1;position: relative;background-color: white;}#sk-container-id-6 div.sk-parallel-item:first-child::after {align-self: flex-end;width: 50%;}#sk-container-id-6 div.sk-parallel-item:last-child::after {align-self: flex-start;width: 50%;}#sk-container-id-6 div.sk-parallel-item:only-child::after {width: 0;}#sk-container-id-6 div.sk-dashed-wrapped {border: 1px dashed gray;margin: 0 0.4em 0.5em 0.4em;box-sizing: border-box;padding-bottom: 0.4em;background-color: white;}#sk-container-id-6 div.sk-label label {font-family: monospace;font-weight: bold;display: inline-block;line-height: 1.2em;}#sk-container-id-6 div.sk-label-container {text-align: center;}#sk-container-id-6 div.sk-container {/* jupyter's `normalize.less` sets `[hidden] { display: none; }` but bootstrap.min.css set `[hidden] { display: none !important; }` so we also need the `!important` here to be able to override the default hidden behavior on the sphinx rendered scikit-learn.org. See: https://github.com/scikit-learn/scikit-learn/issues/21755 */display: inline-block !important;position: relative;}#sk-container-id-6 div.sk-text-repr-fallback {display: none;}</style><div id=\"sk-container-id-6\" class=\"sk-top-container\"><div class=\"sk-text-repr-fallback\"><pre>MinRedundancyMaxRelevance(n_features_to_select=5,\n",
       "                          redundancy_func=functools.partial(&lt;function association_series at 0x000001C620DAA7A0&gt;, n_jobs=1, normalize=True),\n",
       "                          relevance_func=functools.partial(&lt;function f_stat_classification_parallel at 0x000001C620DAAE60&gt;, n_jobs=1),\n",
       "                          task=&#x27;classification&#x27;)</pre><b>In a Jupyter environment, please rerun this cell to show the HTML representation or trust the notebook. <br />On GitHub, the HTML representation is unable to render, please try loading this page with nbviewer.org.</b></div><div class=\"sk-container\" hidden><div class=\"sk-item\"><div class=\"sk-estimator sk-toggleable\"><input class=\"sk-toggleable__control sk-hidden--visually\" id=\"sk-estimator-id-6\" type=\"checkbox\" checked><label for=\"sk-estimator-id-6\" class=\"sk-toggleable__label sk-toggleable__label-arrow\">MinRedundancyMaxRelevance</label><div class=\"sk-toggleable__content\"><pre>MinRedundancyMaxRelevance(n_features_to_select=5,\n",
       "                          redundancy_func=functools.partial(&lt;function association_series at 0x000001C620DAA7A0&gt;, n_jobs=1, normalize=True),\n",
       "                          relevance_func=functools.partial(&lt;function f_stat_classification_parallel at 0x000001C620DAAE60&gt;, n_jobs=1),\n",
       "                          task=&#x27;classification&#x27;)</pre></div></div></div></div></div>"
      ],
      "text/plain": [
       "MinRedundancyMaxRelevance(n_features_to_select=5,\n",
       "                          redundancy_func=functools.partial(<function association_series at 0x000001C620DAA7A0>, n_jobs=1, normalize=True),\n",
       "                          relevance_func=functools.partial(<function f_stat_classification_parallel at 0x000001C620DAAE60>, n_jobs=1),\n",
       "                          task='classification')"
      ]
     },
     "execution_count": 49,
     "metadata": {},
     "output_type": "execute_result"
    }
   ],
   "source": [
    "fs_mrmr = MinRedundancyMaxRelevance(\n",
    "    n_features_to_select=5,\n",
    "    relevance_func=None,\n",
    "    redundancy_func=None,\n",
    "    task=\"classification\",\n",
    "    denominator_func=np.mean,\n",
    "    only_same_domain=False,\n",
    "    return_scores=False,\n",
    "    show_progress=True,\n",
    "    n_jobs=1,\n",
    ")\n",
    "\n",
    "# fs_mrmr.fit(X=X, y=y.astype(str), sample_weight=None)\n",
    "fs_mrmr.fit(X=X, y=y, sample_weight=None)"
   ]
  },
  {
   "cell_type": "code",
   "execution_count": 50,
   "metadata": {},
   "outputs": [
    {
     "data": {
      "text/plain": [
       "array(['pclass', 'sex', 'embarked', 'random_cat', 'is_alone', 'title',\n",
       "       'age', 'family_size', 'fare', 'random_num', 'target'], dtype=object)"
      ]
     },
     "execution_count": 50,
     "metadata": {},
     "output_type": "execute_result"
    }
   ],
   "source": [
    "fs_mrmr.feature_names_in_"
   ]
  },
  {
   "cell_type": "code",
   "execution_count": 51,
   "metadata": {},
   "outputs": [
    {
     "data": {
      "text/plain": [
       "array([False,  True, False, False,  True,  True, False,  True,  True,\n",
       "       False, False])"
      ]
     },
     "execution_count": 51,
     "metadata": {},
     "output_type": "execute_result"
    }
   ],
   "source": [
    "fs_mrmr.support_"
   ]
  },
  {
   "cell_type": "code",
   "execution_count": 52,
   "metadata": {},
   "outputs": [
    {
     "data": {
      "text/plain": [
       "array(['sex', 'is_alone', 'title', 'family_size', 'fare'], dtype=object)"
      ]
     },
     "execution_count": 52,
     "metadata": {},
     "output_type": "execute_result"
    }
   ],
   "source": [
    "fs_mrmr.get_feature_names_out()"
   ]
  },
  {
   "cell_type": "code",
   "execution_count": 53,
   "metadata": {},
   "outputs": [
    {
     "data": {
      "text/html": [
       "<div>\n",
       "<style scoped>\n",
       "    .dataframe tbody tr th:only-of-type {\n",
       "        vertical-align: middle;\n",
       "    }\n",
       "\n",
       "    .dataframe tbody tr th {\n",
       "        vertical-align: top;\n",
       "    }\n",
       "\n",
       "    .dataframe thead th {\n",
       "        text-align: right;\n",
       "    }\n",
       "</style>\n",
       "<table border=\"1\" class=\"dataframe\">\n",
       "  <thead>\n",
       "    <tr style=\"text-align: right;\">\n",
       "      <th></th>\n",
       "      <th>mrmr</th>\n",
       "      <th>relevance</th>\n",
       "      <th>redundancy</th>\n",
       "    </tr>\n",
       "  </thead>\n",
       "  <tbody>\n",
       "    <tr>\n",
       "      <th>sex</th>\n",
       "      <td>inf</td>\n",
       "      <td>1.740256</td>\n",
       "      <td>0.000000</td>\n",
       "    </tr>\n",
       "    <tr>\n",
       "      <th>fare</th>\n",
       "      <td>8.129865</td>\n",
       "      <td>1.499352</td>\n",
       "      <td>0.184425</td>\n",
       "    </tr>\n",
       "    <tr>\n",
       "      <th>title</th>\n",
       "      <td>1.483999</td>\n",
       "      <td>0.694114</td>\n",
       "      <td>0.467732</td>\n",
       "    </tr>\n",
       "    <tr>\n",
       "      <th>family_size</th>\n",
       "      <td>-1.320894</td>\n",
       "      <td>-0.516471</td>\n",
       "      <td>0.391001</td>\n",
       "    </tr>\n",
       "    <tr>\n",
       "      <th>is_alone</th>\n",
       "      <td>-2.068465</td>\n",
       "      <td>-0.639219</td>\n",
       "      <td>0.309031</td>\n",
       "    </tr>\n",
       "  </tbody>\n",
       "</table>\n",
       "</div>"
      ],
      "text/plain": [
       "                 mrmr  relevance  redundancy\n",
       "sex               inf   1.740256    0.000000\n",
       "fare         8.129865   1.499352    0.184425\n",
       "title        1.483999   0.694114    0.467732\n",
       "family_size -1.320894  -0.516471    0.391001\n",
       "is_alone    -2.068465  -0.639219    0.309031"
      ]
     },
     "execution_count": 53,
     "metadata": {},
     "output_type": "execute_result"
    }
   ],
   "source": [
    "fs_mrmr.ranking_"
   ]
  },
  {
   "attachments": {},
   "cell_type": "markdown",
   "metadata": {},
   "source": [
    "## Pipeline\n",
    "\n",
    "Integration as a step of a feature selection pipeline"
   ]
  },
  {
   "cell_type": "code",
   "execution_count": 54,
   "metadata": {},
   "outputs": [
    {
     "data": {
      "application/vnd.jupyter.widget-view+json": {
       "model_id": "b5b4c1ac78db415197f6c65f9606633c",
       "version_major": 2,
       "version_minor": 0
      },
      "text/plain": [
       "  0%|          | 0/5 [00:00<?, ?it/s]"
      ]
     },
     "metadata": {},
     "output_type": "display_data"
    },
    {
     "data": {
      "text/html": [
       "<div>\n",
       "<style scoped>\n",
       "    .dataframe tbody tr th:only-of-type {\n",
       "        vertical-align: middle;\n",
       "    }\n",
       "\n",
       "    .dataframe tbody tr th {\n",
       "        vertical-align: top;\n",
       "    }\n",
       "\n",
       "    .dataframe thead th {\n",
       "        text-align: right;\n",
       "    }\n",
       "</style>\n",
       "<table border=\"1\" class=\"dataframe\">\n",
       "  <thead>\n",
       "    <tr style=\"text-align: right;\">\n",
       "      <th></th>\n",
       "      <th>sex</th>\n",
       "      <th>fare</th>\n",
       "      <th>title</th>\n",
       "      <th>family_size</th>\n",
       "      <th>is_alone</th>\n",
       "    </tr>\n",
       "  </thead>\n",
       "  <tbody>\n",
       "    <tr>\n",
       "      <th>0</th>\n",
       "      <td>female</td>\n",
       "      <td>211.3375</td>\n",
       "      <td>Mrs</td>\n",
       "      <td>0.0</td>\n",
       "      <td>1</td>\n",
       "    </tr>\n",
       "    <tr>\n",
       "      <th>1</th>\n",
       "      <td>male</td>\n",
       "      <td>151.5500</td>\n",
       "      <td>Master</td>\n",
       "      <td>3.0</td>\n",
       "      <td>0</td>\n",
       "    </tr>\n",
       "    <tr>\n",
       "      <th>2</th>\n",
       "      <td>female</td>\n",
       "      <td>151.5500</td>\n",
       "      <td>Mrs</td>\n",
       "      <td>3.0</td>\n",
       "      <td>0</td>\n",
       "    </tr>\n",
       "    <tr>\n",
       "      <th>3</th>\n",
       "      <td>male</td>\n",
       "      <td>151.5500</td>\n",
       "      <td>Mr</td>\n",
       "      <td>3.0</td>\n",
       "      <td>0</td>\n",
       "    </tr>\n",
       "    <tr>\n",
       "      <th>4</th>\n",
       "      <td>female</td>\n",
       "      <td>151.5500</td>\n",
       "      <td>Mrs</td>\n",
       "      <td>3.0</td>\n",
       "      <td>0</td>\n",
       "    </tr>\n",
       "  </tbody>\n",
       "</table>\n",
       "</div>"
      ],
      "text/plain": [
       "      sex      fare   title  family_size is_alone\n",
       "0  female  211.3375     Mrs          0.0        1\n",
       "1    male  151.5500  Master          3.0        0\n",
       "2  female  151.5500     Mrs          3.0        0\n",
       "3    male  151.5500      Mr          3.0        0\n",
       "4  female  151.5500     Mrs          3.0        0"
      ]
     },
     "execution_count": 54,
     "metadata": {},
     "output_type": "execute_result"
    }
   ],
   "source": [
    "from sklearn.pipeline import Pipeline\n",
    "from arfs.feature_selection import (\n",
    "    MissingValueThreshold,\n",
    "    UniqueValuesThreshold,\n",
    "    make_fs_summary,\n",
    ")\n",
    "\n",
    "titanic = load_data(name=\"Titanic\")\n",
    "X, y = titanic.data, titanic.target\n",
    "\n",
    "# y = y.astype('category')\n",
    "y.name = \"target\"\n",
    "\n",
    "fs_mrmr = MinRedundancyMaxRelevance(\n",
    "    n_features_to_select=5,\n",
    "    relevance_func=None,\n",
    "    redundancy_func=None,\n",
    "    task=\"classification\",\n",
    "    denominator_func=np.mean,\n",
    "    only_same_domain=False,\n",
    "    return_scores=False,\n",
    "    show_progress=True,\n",
    "    n_jobs=1,\n",
    ")\n",
    "\n",
    "mrmr_fs_pipeline = Pipeline(\n",
    "    [\n",
    "        (\"missing\", MissingValueThreshold(threshold=0.05)),\n",
    "        (\"unique\", UniqueValuesThreshold(threshold=1)),\n",
    "        (\"mrmr\", fs_mrmr),\n",
    "    ]\n",
    ")\n",
    "\n",
    "X_trans = mrmr_fs_pipeline.fit(X=X, y=y).transform(X=X)\n",
    "#   collinearity__sample_weight=w,\n",
    "#   lowimp__sample_weight=w)\n",
    "X_trans.head()"
   ]
  },
  {
   "cell_type": "code",
   "execution_count": 55,
   "metadata": {},
   "outputs": [
    {
     "data": {
      "text/html": [
       "<style type=\"text/css\">\n",
       "#T_ccdd7_row0_col1, #T_ccdd7_row0_col2, #T_ccdd7_row1_col1, #T_ccdd7_row1_col2, #T_ccdd7_row1_col3, #T_ccdd7_row2_col1, #T_ccdd7_row2_col2, #T_ccdd7_row3_col1, #T_ccdd7_row3_col2, #T_ccdd7_row4_col1, #T_ccdd7_row4_col2, #T_ccdd7_row4_col3, #T_ccdd7_row5_col1, #T_ccdd7_row5_col2, #T_ccdd7_row5_col3, #T_ccdd7_row6_col1, #T_ccdd7_row6_col2, #T_ccdd7_row7_col1, #T_ccdd7_row7_col2, #T_ccdd7_row7_col3, #T_ccdd7_row8_col1, #T_ccdd7_row8_col2, #T_ccdd7_row8_col3, #T_ccdd7_row9_col1, #T_ccdd7_row9_col2 {\n",
       "  background-color: #0c8a30;\n",
       "}\n",
       "#T_ccdd7_row0_col3, #T_ccdd7_row2_col3, #T_ccdd7_row3_col3, #T_ccdd7_row6_col3, #T_ccdd7_row9_col3 {\n",
       "  background-color: #ba0202;\n",
       "}\n",
       "</style>\n",
       "<table id=\"T_ccdd7\">\n",
       "  <thead>\n",
       "    <tr>\n",
       "      <th class=\"blank level0\" >&nbsp;</th>\n",
       "      <th id=\"T_ccdd7_level0_col0\" class=\"col_heading level0 col0\" >predictor</th>\n",
       "      <th id=\"T_ccdd7_level0_col1\" class=\"col_heading level0 col1\" >missing</th>\n",
       "      <th id=\"T_ccdd7_level0_col2\" class=\"col_heading level0 col2\" >unique</th>\n",
       "      <th id=\"T_ccdd7_level0_col3\" class=\"col_heading level0 col3\" >mrmr</th>\n",
       "    </tr>\n",
       "  </thead>\n",
       "  <tbody>\n",
       "    <tr>\n",
       "      <th id=\"T_ccdd7_level0_row0\" class=\"row_heading level0 row0\" >0</th>\n",
       "      <td id=\"T_ccdd7_row0_col0\" class=\"data row0 col0\" >pclass</td>\n",
       "      <td id=\"T_ccdd7_row0_col1\" class=\"data row0 col1\" >1</td>\n",
       "      <td id=\"T_ccdd7_row0_col2\" class=\"data row0 col2\" >1</td>\n",
       "      <td id=\"T_ccdd7_row0_col3\" class=\"data row0 col3\" >0</td>\n",
       "    </tr>\n",
       "    <tr>\n",
       "      <th id=\"T_ccdd7_level0_row1\" class=\"row_heading level0 row1\" >1</th>\n",
       "      <td id=\"T_ccdd7_row1_col0\" class=\"data row1 col0\" >sex</td>\n",
       "      <td id=\"T_ccdd7_row1_col1\" class=\"data row1 col1\" >1</td>\n",
       "      <td id=\"T_ccdd7_row1_col2\" class=\"data row1 col2\" >1</td>\n",
       "      <td id=\"T_ccdd7_row1_col3\" class=\"data row1 col3\" >1</td>\n",
       "    </tr>\n",
       "    <tr>\n",
       "      <th id=\"T_ccdd7_level0_row2\" class=\"row_heading level0 row2\" >2</th>\n",
       "      <td id=\"T_ccdd7_row2_col0\" class=\"data row2 col0\" >embarked</td>\n",
       "      <td id=\"T_ccdd7_row2_col1\" class=\"data row2 col1\" >1</td>\n",
       "      <td id=\"T_ccdd7_row2_col2\" class=\"data row2 col2\" >1</td>\n",
       "      <td id=\"T_ccdd7_row2_col3\" class=\"data row2 col3\" >0</td>\n",
       "    </tr>\n",
       "    <tr>\n",
       "      <th id=\"T_ccdd7_level0_row3\" class=\"row_heading level0 row3\" >3</th>\n",
       "      <td id=\"T_ccdd7_row3_col0\" class=\"data row3 col0\" >random_cat</td>\n",
       "      <td id=\"T_ccdd7_row3_col1\" class=\"data row3 col1\" >1</td>\n",
       "      <td id=\"T_ccdd7_row3_col2\" class=\"data row3 col2\" >1</td>\n",
       "      <td id=\"T_ccdd7_row3_col3\" class=\"data row3 col3\" >0</td>\n",
       "    </tr>\n",
       "    <tr>\n",
       "      <th id=\"T_ccdd7_level0_row4\" class=\"row_heading level0 row4\" >4</th>\n",
       "      <td id=\"T_ccdd7_row4_col0\" class=\"data row4 col0\" >is_alone</td>\n",
       "      <td id=\"T_ccdd7_row4_col1\" class=\"data row4 col1\" >1</td>\n",
       "      <td id=\"T_ccdd7_row4_col2\" class=\"data row4 col2\" >1</td>\n",
       "      <td id=\"T_ccdd7_row4_col3\" class=\"data row4 col3\" >1</td>\n",
       "    </tr>\n",
       "    <tr>\n",
       "      <th id=\"T_ccdd7_level0_row5\" class=\"row_heading level0 row5\" >5</th>\n",
       "      <td id=\"T_ccdd7_row5_col0\" class=\"data row5 col0\" >title</td>\n",
       "      <td id=\"T_ccdd7_row5_col1\" class=\"data row5 col1\" >1</td>\n",
       "      <td id=\"T_ccdd7_row5_col2\" class=\"data row5 col2\" >1</td>\n",
       "      <td id=\"T_ccdd7_row5_col3\" class=\"data row5 col3\" >1</td>\n",
       "    </tr>\n",
       "    <tr>\n",
       "      <th id=\"T_ccdd7_level0_row6\" class=\"row_heading level0 row6\" >6</th>\n",
       "      <td id=\"T_ccdd7_row6_col0\" class=\"data row6 col0\" >age</td>\n",
       "      <td id=\"T_ccdd7_row6_col1\" class=\"data row6 col1\" >1</td>\n",
       "      <td id=\"T_ccdd7_row6_col2\" class=\"data row6 col2\" >1</td>\n",
       "      <td id=\"T_ccdd7_row6_col3\" class=\"data row6 col3\" >0</td>\n",
       "    </tr>\n",
       "    <tr>\n",
       "      <th id=\"T_ccdd7_level0_row7\" class=\"row_heading level0 row7\" >7</th>\n",
       "      <td id=\"T_ccdd7_row7_col0\" class=\"data row7 col0\" >family_size</td>\n",
       "      <td id=\"T_ccdd7_row7_col1\" class=\"data row7 col1\" >1</td>\n",
       "      <td id=\"T_ccdd7_row7_col2\" class=\"data row7 col2\" >1</td>\n",
       "      <td id=\"T_ccdd7_row7_col3\" class=\"data row7 col3\" >1</td>\n",
       "    </tr>\n",
       "    <tr>\n",
       "      <th id=\"T_ccdd7_level0_row8\" class=\"row_heading level0 row8\" >8</th>\n",
       "      <td id=\"T_ccdd7_row8_col0\" class=\"data row8 col0\" >fare</td>\n",
       "      <td id=\"T_ccdd7_row8_col1\" class=\"data row8 col1\" >1</td>\n",
       "      <td id=\"T_ccdd7_row8_col2\" class=\"data row8 col2\" >1</td>\n",
       "      <td id=\"T_ccdd7_row8_col3\" class=\"data row8 col3\" >1</td>\n",
       "    </tr>\n",
       "    <tr>\n",
       "      <th id=\"T_ccdd7_level0_row9\" class=\"row_heading level0 row9\" >9</th>\n",
       "      <td id=\"T_ccdd7_row9_col0\" class=\"data row9 col0\" >random_num</td>\n",
       "      <td id=\"T_ccdd7_row9_col1\" class=\"data row9 col1\" >1</td>\n",
       "      <td id=\"T_ccdd7_row9_col2\" class=\"data row9 col2\" >1</td>\n",
       "      <td id=\"T_ccdd7_row9_col3\" class=\"data row9 col3\" >0</td>\n",
       "    </tr>\n",
       "  </tbody>\n",
       "</table>\n"
      ],
      "text/plain": [
       "<pandas.io.formats.style.Styler at 0x1c621cffeb0>"
      ]
     },
     "execution_count": 55,
     "metadata": {},
     "output_type": "execute_result"
    }
   ],
   "source": [
    "make_fs_summary(mrmr_fs_pipeline)"
   ]
  },
  {
   "cell_type": "code",
   "execution_count": 56,
   "metadata": {},
   "outputs": [
    {
     "data": {
      "text/plain": [
       "array(['sex', 'is_alone', 'title', 'family_size', 'fare'], dtype=object)"
      ]
     },
     "execution_count": 56,
     "metadata": {},
     "output_type": "execute_result"
    }
   ],
   "source": [
    "mrmr_fs_pipeline.named_steps[\"mrmr\"].get_feature_names_out()"
   ]
  },
  {
   "attachments": {},
   "cell_type": "markdown",
   "metadata": {},
   "source": [
    "## Does discretization help?\n",
    "\n",
    "We can use `TreeDiscretizer` to discretize and auto-group the predictors (whatever if numeric or not). Does that improves the MRmr output?"
   ]
  },
  {
   "cell_type": "code",
   "execution_count": 57,
   "metadata": {},
   "outputs": [
    {
     "data": {
      "application/vnd.jupyter.widget-view+json": {
       "model_id": "2e19c29c388547afa819d5240021c903",
       "version_major": 2,
       "version_minor": 0
      },
      "text/plain": [
       "  0%|          | 0/5 [00:00<?, ?it/s]"
      ]
     },
     "metadata": {},
     "output_type": "display_data"
    },
    {
     "data": {
      "text/html": [
       "<div>\n",
       "<style scoped>\n",
       "    .dataframe tbody tr th:only-of-type {\n",
       "        vertical-align: middle;\n",
       "    }\n",
       "\n",
       "    .dataframe tbody tr th {\n",
       "        vertical-align: top;\n",
       "    }\n",
       "\n",
       "    .dataframe thead th {\n",
       "        text-align: right;\n",
       "    }\n",
       "</style>\n",
       "<table border=\"1\" class=\"dataframe\">\n",
       "  <thead>\n",
       "    <tr style=\"text-align: right;\">\n",
       "      <th></th>\n",
       "      <th>sex</th>\n",
       "      <th>title</th>\n",
       "      <th>is_alone</th>\n",
       "      <th>pclass</th>\n",
       "      <th>embarked</th>\n",
       "    </tr>\n",
       "  </thead>\n",
       "  <tbody>\n",
       "    <tr>\n",
       "      <th>0</th>\n",
       "      <td>female</td>\n",
       "      <td>Mrs</td>\n",
       "      <td>1</td>\n",
       "      <td>1</td>\n",
       "      <td>S / missing / Q</td>\n",
       "    </tr>\n",
       "    <tr>\n",
       "      <th>1</th>\n",
       "      <td>male</td>\n",
       "      <td>Master</td>\n",
       "      <td>0</td>\n",
       "      <td>1</td>\n",
       "      <td>S / missing / Q</td>\n",
       "    </tr>\n",
       "    <tr>\n",
       "      <th>2</th>\n",
       "      <td>female</td>\n",
       "      <td>Mrs</td>\n",
       "      <td>0</td>\n",
       "      <td>1</td>\n",
       "      <td>S / missing / Q</td>\n",
       "    </tr>\n",
       "    <tr>\n",
       "      <th>3</th>\n",
       "      <td>male</td>\n",
       "      <td>Mr</td>\n",
       "      <td>0</td>\n",
       "      <td>1</td>\n",
       "      <td>S / missing / Q</td>\n",
       "    </tr>\n",
       "    <tr>\n",
       "      <th>4</th>\n",
       "      <td>female</td>\n",
       "      <td>Mrs</td>\n",
       "      <td>0</td>\n",
       "      <td>1</td>\n",
       "      <td>S / missing / Q</td>\n",
       "    </tr>\n",
       "  </tbody>\n",
       "</table>\n",
       "</div>"
      ],
      "text/plain": [
       "      sex   title is_alone pclass         embarked\n",
       "0  female     Mrs        1      1  S / missing / Q\n",
       "1    male  Master        0      1  S / missing / Q\n",
       "2  female     Mrs        0      1  S / missing / Q\n",
       "3    male      Mr        0      1  S / missing / Q\n",
       "4  female     Mrs        0      1  S / missing / Q"
      ]
     },
     "execution_count": 57,
     "metadata": {},
     "output_type": "execute_result"
    }
   ],
   "source": [
    "# main parameter controlling how agressive will be the auto-grouping\n",
    "lgb_params = {\"min_split_gain\": 0.05}\n",
    "# instanciate the discretizer\n",
    "disc = TreeDiscretizer(bin_features=\"all\", n_bins=10, boost_params=lgb_params)\n",
    "\n",
    "titanic = load_data(name=\"Titanic\")\n",
    "X, y = titanic.data, titanic.target\n",
    "\n",
    "# y = y.astype('category')\n",
    "y.name = \"target\"\n",
    "y = y.astype(\"int\")\n",
    "\n",
    "fs_mrmr = MinRedundancyMaxRelevance(\n",
    "    n_features_to_select=5,\n",
    "    relevance_func=None,\n",
    "    redundancy_func=None,\n",
    "    task=\"classification\",\n",
    "    denominator_func=np.mean,\n",
    "    only_same_domain=False,\n",
    "    return_scores=False,\n",
    "    show_progress=True,\n",
    "    n_jobs=1,\n",
    ")\n",
    "\n",
    "mrmr_fs_pipeline = Pipeline(\n",
    "    [\n",
    "        (\"missing\", MissingValueThreshold(threshold=0.05)),\n",
    "        (\"unique\", UniqueValuesThreshold(threshold=1)),\n",
    "        (\"discretizer\", disc),\n",
    "        (\"mrmr\", fs_mrmr),\n",
    "    ]\n",
    ")\n",
    "\n",
    "X_trans = mrmr_fs_pipeline.fit(X=X, y=y).transform(X=X)\n",
    "#   collinearity__sample_weight=w,\n",
    "#   lowimp__sample_weight=w)\n",
    "X_trans.head()"
   ]
  },
  {
   "cell_type": "code",
   "execution_count": 58,
   "metadata": {},
   "outputs": [
    {
     "data": {
      "text/html": [
       "<style type=\"text/css\">\n",
       "#T_419f0_row0_col1, #T_419f0_row0_col2, #T_419f0_row0_col4, #T_419f0_row1_col1, #T_419f0_row1_col2, #T_419f0_row1_col4, #T_419f0_row2_col1, #T_419f0_row2_col2, #T_419f0_row2_col4, #T_419f0_row3_col1, #T_419f0_row3_col2, #T_419f0_row4_col1, #T_419f0_row4_col2, #T_419f0_row4_col4, #T_419f0_row5_col1, #T_419f0_row5_col2, #T_419f0_row5_col4, #T_419f0_row6_col1, #T_419f0_row6_col2, #T_419f0_row7_col1, #T_419f0_row7_col2, #T_419f0_row8_col1, #T_419f0_row8_col2, #T_419f0_row9_col1, #T_419f0_row9_col2 {\n",
       "  background-color: #0c8a30;\n",
       "}\n",
       "#T_419f0_row0_col3, #T_419f0_row1_col3, #T_419f0_row2_col3, #T_419f0_row3_col3, #T_419f0_row4_col3, #T_419f0_row5_col3, #T_419f0_row6_col3, #T_419f0_row7_col3, #T_419f0_row8_col3, #T_419f0_row9_col3 {\n",
       "  background-color: #0c8a30;\n",
       "  background-color: #f57505;\n",
       "}\n",
       "#T_419f0_row3_col4, #T_419f0_row6_col4, #T_419f0_row7_col4, #T_419f0_row8_col4, #T_419f0_row9_col4 {\n",
       "  background-color: #ba0202;\n",
       "}\n",
       "</style>\n",
       "<table id=\"T_419f0\">\n",
       "  <thead>\n",
       "    <tr>\n",
       "      <th class=\"blank level0\" >&nbsp;</th>\n",
       "      <th id=\"T_419f0_level0_col0\" class=\"col_heading level0 col0\" >predictor</th>\n",
       "      <th id=\"T_419f0_level0_col1\" class=\"col_heading level0 col1\" >missing</th>\n",
       "      <th id=\"T_419f0_level0_col2\" class=\"col_heading level0 col2\" >unique</th>\n",
       "      <th id=\"T_419f0_level0_col3\" class=\"col_heading level0 col3\" >discretizer</th>\n",
       "      <th id=\"T_419f0_level0_col4\" class=\"col_heading level0 col4\" >mrmr</th>\n",
       "    </tr>\n",
       "  </thead>\n",
       "  <tbody>\n",
       "    <tr>\n",
       "      <th id=\"T_419f0_level0_row0\" class=\"row_heading level0 row0\" >0</th>\n",
       "      <td id=\"T_419f0_row0_col0\" class=\"data row0 col0\" >pclass</td>\n",
       "      <td id=\"T_419f0_row0_col1\" class=\"data row0 col1\" >1</td>\n",
       "      <td id=\"T_419f0_row0_col2\" class=\"data row0 col2\" >1</td>\n",
       "      <td id=\"T_419f0_row0_col3\" class=\"data row0 col3\" >nan</td>\n",
       "      <td id=\"T_419f0_row0_col4\" class=\"data row0 col4\" >1</td>\n",
       "    </tr>\n",
       "    <tr>\n",
       "      <th id=\"T_419f0_level0_row1\" class=\"row_heading level0 row1\" >1</th>\n",
       "      <td id=\"T_419f0_row1_col0\" class=\"data row1 col0\" >sex</td>\n",
       "      <td id=\"T_419f0_row1_col1\" class=\"data row1 col1\" >1</td>\n",
       "      <td id=\"T_419f0_row1_col2\" class=\"data row1 col2\" >1</td>\n",
       "      <td id=\"T_419f0_row1_col3\" class=\"data row1 col3\" >nan</td>\n",
       "      <td id=\"T_419f0_row1_col4\" class=\"data row1 col4\" >1</td>\n",
       "    </tr>\n",
       "    <tr>\n",
       "      <th id=\"T_419f0_level0_row2\" class=\"row_heading level0 row2\" >2</th>\n",
       "      <td id=\"T_419f0_row2_col0\" class=\"data row2 col0\" >embarked</td>\n",
       "      <td id=\"T_419f0_row2_col1\" class=\"data row2 col1\" >1</td>\n",
       "      <td id=\"T_419f0_row2_col2\" class=\"data row2 col2\" >1</td>\n",
       "      <td id=\"T_419f0_row2_col3\" class=\"data row2 col3\" >nan</td>\n",
       "      <td id=\"T_419f0_row2_col4\" class=\"data row2 col4\" >1</td>\n",
       "    </tr>\n",
       "    <tr>\n",
       "      <th id=\"T_419f0_level0_row3\" class=\"row_heading level0 row3\" >3</th>\n",
       "      <td id=\"T_419f0_row3_col0\" class=\"data row3 col0\" >random_cat</td>\n",
       "      <td id=\"T_419f0_row3_col1\" class=\"data row3 col1\" >1</td>\n",
       "      <td id=\"T_419f0_row3_col2\" class=\"data row3 col2\" >1</td>\n",
       "      <td id=\"T_419f0_row3_col3\" class=\"data row3 col3\" >nan</td>\n",
       "      <td id=\"T_419f0_row3_col4\" class=\"data row3 col4\" >0</td>\n",
       "    </tr>\n",
       "    <tr>\n",
       "      <th id=\"T_419f0_level0_row4\" class=\"row_heading level0 row4\" >4</th>\n",
       "      <td id=\"T_419f0_row4_col0\" class=\"data row4 col0\" >is_alone</td>\n",
       "      <td id=\"T_419f0_row4_col1\" class=\"data row4 col1\" >1</td>\n",
       "      <td id=\"T_419f0_row4_col2\" class=\"data row4 col2\" >1</td>\n",
       "      <td id=\"T_419f0_row4_col3\" class=\"data row4 col3\" >nan</td>\n",
       "      <td id=\"T_419f0_row4_col4\" class=\"data row4 col4\" >1</td>\n",
       "    </tr>\n",
       "    <tr>\n",
       "      <th id=\"T_419f0_level0_row5\" class=\"row_heading level0 row5\" >5</th>\n",
       "      <td id=\"T_419f0_row5_col0\" class=\"data row5 col0\" >title</td>\n",
       "      <td id=\"T_419f0_row5_col1\" class=\"data row5 col1\" >1</td>\n",
       "      <td id=\"T_419f0_row5_col2\" class=\"data row5 col2\" >1</td>\n",
       "      <td id=\"T_419f0_row5_col3\" class=\"data row5 col3\" >nan</td>\n",
       "      <td id=\"T_419f0_row5_col4\" class=\"data row5 col4\" >1</td>\n",
       "    </tr>\n",
       "    <tr>\n",
       "      <th id=\"T_419f0_level0_row6\" class=\"row_heading level0 row6\" >6</th>\n",
       "      <td id=\"T_419f0_row6_col0\" class=\"data row6 col0\" >age</td>\n",
       "      <td id=\"T_419f0_row6_col1\" class=\"data row6 col1\" >1</td>\n",
       "      <td id=\"T_419f0_row6_col2\" class=\"data row6 col2\" >1</td>\n",
       "      <td id=\"T_419f0_row6_col3\" class=\"data row6 col3\" >nan</td>\n",
       "      <td id=\"T_419f0_row6_col4\" class=\"data row6 col4\" >0</td>\n",
       "    </tr>\n",
       "    <tr>\n",
       "      <th id=\"T_419f0_level0_row7\" class=\"row_heading level0 row7\" >7</th>\n",
       "      <td id=\"T_419f0_row7_col0\" class=\"data row7 col0\" >family_size</td>\n",
       "      <td id=\"T_419f0_row7_col1\" class=\"data row7 col1\" >1</td>\n",
       "      <td id=\"T_419f0_row7_col2\" class=\"data row7 col2\" >1</td>\n",
       "      <td id=\"T_419f0_row7_col3\" class=\"data row7 col3\" >nan</td>\n",
       "      <td id=\"T_419f0_row7_col4\" class=\"data row7 col4\" >0</td>\n",
       "    </tr>\n",
       "    <tr>\n",
       "      <th id=\"T_419f0_level0_row8\" class=\"row_heading level0 row8\" >8</th>\n",
       "      <td id=\"T_419f0_row8_col0\" class=\"data row8 col0\" >fare</td>\n",
       "      <td id=\"T_419f0_row8_col1\" class=\"data row8 col1\" >1</td>\n",
       "      <td id=\"T_419f0_row8_col2\" class=\"data row8 col2\" >1</td>\n",
       "      <td id=\"T_419f0_row8_col3\" class=\"data row8 col3\" >nan</td>\n",
       "      <td id=\"T_419f0_row8_col4\" class=\"data row8 col4\" >0</td>\n",
       "    </tr>\n",
       "    <tr>\n",
       "      <th id=\"T_419f0_level0_row9\" class=\"row_heading level0 row9\" >9</th>\n",
       "      <td id=\"T_419f0_row9_col0\" class=\"data row9 col0\" >random_num</td>\n",
       "      <td id=\"T_419f0_row9_col1\" class=\"data row9 col1\" >1</td>\n",
       "      <td id=\"T_419f0_row9_col2\" class=\"data row9 col2\" >1</td>\n",
       "      <td id=\"T_419f0_row9_col3\" class=\"data row9 col3\" >nan</td>\n",
       "      <td id=\"T_419f0_row9_col4\" class=\"data row9 col4\" >0</td>\n",
       "    </tr>\n",
       "  </tbody>\n",
       "</table>\n"
      ],
      "text/plain": [
       "<pandas.io.formats.style.Styler at 0x1c621a7c910>"
      ]
     },
     "execution_count": 58,
     "metadata": {},
     "output_type": "execute_result"
    }
   ],
   "source": [
    "make_fs_summary(mrmr_fs_pipeline)"
   ]
  }
 ],
 "metadata": {
  "kernelspec": {
   "display_name": "arfs-env",
   "language": "python",
   "name": "python3"
  },
  "language_info": {
   "codemirror_mode": {
    "name": "ipython",
    "version": 3
   },
   "file_extension": ".py",
   "mimetype": "text/x-python",
   "name": "python",
   "nbconvert_exporter": "python",
   "pygments_lexer": "ipython3",
   "version": "3.10.0"
  },
  "vscode": {
   "interpreter": {
    "hash": "dc5365a4b2ce0cb283277bcba6a2c75541e4b930f1478f6e09f493039ef1ca26"
   }
  }
 },
 "nbformat": 4,
 "nbformat_minor": 4
}
